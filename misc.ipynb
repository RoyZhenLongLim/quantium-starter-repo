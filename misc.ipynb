{
 "cells": [
  {
   "cell_type": "markdown",
   "source": [
    "# This is the code for Quantium Forage Task"
   ],
   "metadata": {
    "collapsed": false
   }
  },
  {
   "cell_type": "markdown",
   "source": [
    "## Goal\n",
    "Create a dashboard for Soul Foods\n",
    "- Recently increases the price on Pink Morsels -> Slight Decline in Pink Morsels Sales\n",
    "- Soul Food would like to investigate the effect of the change on profits"
   ],
   "metadata": {
    "collapsed": false
   }
  },
  {
   "cell_type": "markdown",
   "source": [
    "### Analysis of Requirements\n",
    "Since the goal is to determine the change in profits.\n",
    "\n",
    "The data we have available are:\n",
    "- Product\n",
    "- Price\n",
    "- Quantity Sold\n",
    "- Date of Sale\n",
    "- Region of Sale\n",
    "\n",
    "We want to be able to answer the following questions:\n",
    "- How much did the increase in price affect the profit in Pink Morsels?\n",
    "    - Are these changes affected by region?\n",
    "    - Does the changes in Pink Morsels affect the other products?\n",
    "\n",
    "\n",
    "Features that need to be in the model.\n",
    "- Comparison between two different products\n",
    "    - X-axis is time\n",
    "    - Y-axis should include Price, Quantity, Profits\n",
    "    - Should be separated by region"
   ],
   "metadata": {
    "collapsed": false
   }
  },
  {
   "cell_type": "code",
   "execution_count": 4,
   "metadata": {
    "collapsed": true
   },
   "outputs": [],
   "source": [
    "import pandas as pd"
   ]
  },
  {
   "cell_type": "markdown",
   "source": [],
   "metadata": {
    "collapsed": false
   }
  },
  {
   "cell_type": "markdown",
   "source": [
    "## MISC Code\n",
    "This section includes any helper code I used"
   ],
   "metadata": {
    "collapsed": false
   }
  },
  {
   "cell_type": "markdown",
   "source": [
    "Combining the data to make it easier to use"
   ],
   "metadata": {
    "collapsed": false
   }
  },
  {
   "cell_type": "code",
   "execution_count": 20,
   "outputs": [],
   "source": [
    "sales0 = pd.read_csv(\"data/daily_sales_data_0.csv\")\n",
    "sales1 = pd.read_csv(\"data/daily_sales_data_1.csv\")\n",
    "sales2 = pd.read_csv(\"data/daily_sales_data_2.csv\")"
   ],
   "metadata": {
    "collapsed": false
   }
  },
  {
   "cell_type": "code",
   "execution_count": 21,
   "outputs": [],
   "source": [
    "sales = pd.concat([sales0, sales1, sales2])"
   ],
   "metadata": {
    "collapsed": false
   }
  },
  {
   "cell_type": "code",
   "execution_count": 22,
   "outputs": [],
   "source": [
    "sales.to_csv(\"data/daily_sales_compiled.csv\", index=False)"
   ],
   "metadata": {
    "collapsed": false
   }
  },
  {
   "cell_type": "code",
   "execution_count": 18,
   "outputs": [],
   "source": [
    "sales = pd.read_csv(\"data/daily_sales_compiled.csv\")"
   ],
   "metadata": {
    "collapsed": false
   }
  },
  {
   "cell_type": "markdown",
   "source": [
    "Creating an extra column called 'Total (price * quantity)."
   ],
   "metadata": {
    "collapsed": false
   }
  },
  {
   "cell_type": "code",
   "execution_count": 25,
   "outputs": [
    {
     "name": "stderr",
     "output_type": "stream",
     "text": [
      "/tmp/ipykernel_7465/2440009186.py:1: FutureWarning: The default value of numeric_only in DataFrameGroupBy.mean is deprecated. In a future version, numeric_only will default to False. Either specify numeric_only or select only columns which should be valid for the function.\n",
      "  sales.groupby(\"date\").mean()\n"
     ]
    },
    {
     "data": {
      "text/plain": "              quantity\ndate                  \n2018-02-06  552.857143\n2018-02-07  542.214286\n2018-02-08  535.000000\n2018-02-09  560.357143\n2018-02-10  554.250000\n...                ...\n2022-02-10  455.250000\n2022-02-11  448.142857\n2022-02-12  433.607143\n2022-02-13  462.785714\n2022-02-14  447.821429\n\n[1470 rows x 1 columns]",
      "text/html": "<div>\n<style scoped>\n    .dataframe tbody tr th:only-of-type {\n        vertical-align: middle;\n    }\n\n    .dataframe tbody tr th {\n        vertical-align: top;\n    }\n\n    .dataframe thead th {\n        text-align: right;\n    }\n</style>\n<table border=\"1\" class=\"dataframe\">\n  <thead>\n    <tr style=\"text-align: right;\">\n      <th></th>\n      <th>quantity</th>\n    </tr>\n    <tr>\n      <th>date</th>\n      <th></th>\n    </tr>\n  </thead>\n  <tbody>\n    <tr>\n      <th>2018-02-06</th>\n      <td>552.857143</td>\n    </tr>\n    <tr>\n      <th>2018-02-07</th>\n      <td>542.214286</td>\n    </tr>\n    <tr>\n      <th>2018-02-08</th>\n      <td>535.000000</td>\n    </tr>\n    <tr>\n      <th>2018-02-09</th>\n      <td>560.357143</td>\n    </tr>\n    <tr>\n      <th>2018-02-10</th>\n      <td>554.250000</td>\n    </tr>\n    <tr>\n      <th>...</th>\n      <td>...</td>\n    </tr>\n    <tr>\n      <th>2022-02-10</th>\n      <td>455.250000</td>\n    </tr>\n    <tr>\n      <th>2022-02-11</th>\n      <td>448.142857</td>\n    </tr>\n    <tr>\n      <th>2022-02-12</th>\n      <td>433.607143</td>\n    </tr>\n    <tr>\n      <th>2022-02-13</th>\n      <td>462.785714</td>\n    </tr>\n    <tr>\n      <th>2022-02-14</th>\n      <td>447.821429</td>\n    </tr>\n  </tbody>\n</table>\n<p>1470 rows × 1 columns</p>\n</div>"
     },
     "execution_count": 25,
     "metadata": {},
     "output_type": "execute_result"
    }
   ],
   "source": [
    "sales.groupby(\"date\").mean()"
   ],
   "metadata": {
    "collapsed": false
   }
  }
 ],
 "metadata": {
  "kernelspec": {
   "display_name": "Python 3",
   "language": "python",
   "name": "python3"
  },
  "language_info": {
   "codemirror_mode": {
    "name": "ipython",
    "version": 2
   },
   "file_extension": ".py",
   "mimetype": "text/x-python",
   "name": "python",
   "nbconvert_exporter": "python",
   "pygments_lexer": "ipython2",
   "version": "2.7.6"
  }
 },
 "nbformat": 4,
 "nbformat_minor": 0
}
