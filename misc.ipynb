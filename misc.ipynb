{
 "cells": [
  {
   "cell_type": "markdown",
   "source": [
    "# This is the code for Quantium Forage Task"
   ],
   "metadata": {
    "collapsed": false
   }
  },
  {
   "cell_type": "markdown",
   "source": [
    "## Goal\n",
    "Create a dashboard for Soul Foods\n",
    "- Recently increases the price on Pink Morsels -> Slight Decline in Pink Morsels Sales\n",
    "- Soul Food would like to investigate the effect of the change on profits"
   ],
   "metadata": {
    "collapsed": false
   }
  },
  {
   "cell_type": "markdown",
   "source": [
    "### Analysis of Requirements\n",
    "Since the goal is to determine the change in profits.\n",
    "\n",
    "The data we have available are:\n",
    "- Product\n",
    "- Price\n",
    "- Quantity Sold\n",
    "- Date of Sale\n",
    "- Region of Sale\n",
    "\n",
    "We want to be able to answer the following questions:\n",
    "- How much did the increase in price affect the profit in Pink Morsels?\n",
    "    - Are these changes affected by region?\n",
    "    - Does the changes in Pink Morsels affect the other products?\n",
    "\n",
    "\n",
    "Features that need to be in the model.\n",
    "- Comparison between two different products\n",
    "    - X-axis is time\n",
    "    - Y-axis should include Price, Quantity, Profits\n",
    "    - Should be separated by region"
   ],
   "metadata": {
    "collapsed": false
   }
  },
  {
   "cell_type": "code",
   "execution_count": 19,
   "metadata": {
    "collapsed": true
   },
   "outputs": [],
   "source": [
    "from dash import Dash, html, dcc\n",
    "import plotly.express as px\n",
    "import pandas as pd"
   ]
  },
  {
   "cell_type": "markdown",
   "source": [],
   "metadata": {
    "collapsed": false
   }
  },
  {
   "cell_type": "markdown",
   "source": [
    "## MISC Code\n",
    "This section includes any helper code I used"
   ],
   "metadata": {
    "collapsed": false
   }
  },
  {
   "cell_type": "markdown",
   "source": [
    "Combining the data to make it easier to use"
   ],
   "metadata": {
    "collapsed": false
   }
  },
  {
   "cell_type": "code",
   "execution_count": 20,
   "outputs": [],
   "source": [
    "sales0 = pd.read_csv(\"data/daily_sales_data_0.csv\")\n",
    "sales1 = pd.read_csv(\"data/daily_sales_data_1.csv\")\n",
    "sales2 = pd.read_csv(\"data/daily_sales_data_2.csv\")"
   ],
   "metadata": {
    "collapsed": false
   }
  },
  {
   "cell_type": "code",
   "execution_count": 21,
   "outputs": [],
   "source": [
    "sales = pd.concat([sales0, sales1, sales2])"
   ],
   "metadata": {
    "collapsed": false
   }
  },
  {
   "cell_type": "code",
   "execution_count": 22,
   "outputs": [],
   "source": [
    "sales.to_csv(\"data/daily_sales_compiled.csv\", index=False)"
   ],
   "metadata": {
    "collapsed": false
   }
  },
  {
   "cell_type": "markdown",
   "source": [
    "## Testing"
   ],
   "metadata": {
    "collapsed": false
   }
  },
  {
   "cell_type": "code",
   "execution_count": 24,
   "outputs": [],
   "source": [
    "sales = pd.read_csv(\"data/daily_sales_compiled.csv\")"
   ],
   "metadata": {
    "collapsed": false
   }
  },
  {
   "cell_type": "code",
   "execution_count": 47,
   "outputs": [
    {
     "data": {
      "text/plain": "Index(['price', 'quantity', 'date', 'region'], dtype='object')"
     },
     "execution_count": 47,
     "metadata": {},
     "output_type": "execute_result"
    }
   ],
   "source": [],
   "metadata": {
    "collapsed": false
   }
  },
  {
   "cell_type": "code",
   "execution_count": null,
   "outputs": [],
   "source": [],
   "metadata": {
    "collapsed": false
   }
  }
 ],
 "metadata": {
  "kernelspec": {
   "display_name": "Python 3",
   "language": "python",
   "name": "python3"
  },
  "language_info": {
   "codemirror_mode": {
    "name": "ipython",
    "version": 2
   },
   "file_extension": ".py",
   "mimetype": "text/x-python",
   "name": "python",
   "nbconvert_exporter": "python",
   "pygments_lexer": "ipython2",
   "version": "2.7.6"
  }
 },
 "nbformat": 4,
 "nbformat_minor": 0
}
